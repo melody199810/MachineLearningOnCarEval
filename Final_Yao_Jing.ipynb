{
  "nbformat": 4,
  "nbformat_minor": 0,
  "metadata": {
    "colab": {
      "name": "Final_Yao_Jing",
      "provenance": [],
      "collapsed_sections": [],
      "toc_visible": true,
      "include_colab_link": true
    },
    "kernelspec": {
      "display_name": "Python 3",
      "name": "python3"
    },
    "language_info": {
      "name": "python"
    }
  },
  "cells": [
    {
      "cell_type": "markdown",
      "metadata": {
        "id": "view-in-github",
        "colab_type": "text"
      },
      "source": [
        "<a href=\"https://colab.research.google.com/github/melody199810/MachineLearningOnCarEval/blob/main/Final_Yao_Jing.ipynb\" target=\"_parent\"><img src=\"https://colab.research.google.com/assets/colab-badge.svg\" alt=\"Open In Colab\"/></a>"
      ]
    },
    {
      "cell_type": "markdown",
      "metadata": {
        "id": "HLZ91mmvMQyl"
      },
      "source": [
        "## **Machine Learning Final Project DUE: Friday May 7th 11:59pm**\n",
        "\n",
        "**Note: Please read all the instructions carefully before starting the project.**\n",
        "\n",
        "For your final project you will build an ML model to analyze a dataset of your choice. You are welcome to keep working on the data in your EDA project if your data is large enough (at least 1000 rows for simple models and at least 10,000 for more complex models) or you can choose from the datasets/project suggestions below.\n",
        "\n",
        "In this project make sure that you:\n",
        "- Have a large enough dataset\n",
        "- Split your data in training and testing\n",
        "- Explore your data to inform which type of model to choose (no need if you are using your EDA dataset)\n",
        "- Try different models on your training dataset - then select the most promising model\n",
        "- Use cross validation to fine tune the model’s parameters such as alpha in lasso\n",
        "- Simplify your model using regularization, prunnning, drop-out, etc. to avoid overfitting\n",
        "- Communicate your model’s performance and make sure you compare it to a benchmark when appropriate\n",
        "- Plot interesting graphs and results\n",
        "- Write and publish your article to medium\n",
        "- Commit your code to your GitHub\n",
        "\n",
        "Please ensure you handle all the preprocessing before the modeling.\n",
        "\n",
        "Suggestions for project:\n",
        "You can take a look at the resources given below for choosing a dataset for your project. \n",
        "\n",
        "- Traffic sign detection - https://benchmark.ini.rub.de/gtsdb_dataset.html\n",
        "- Cat and dog classifier - https://www.kaggle.com/c/dogs-vs-cats/data\n",
        "- Other datasets from Kaggle - https://www.kaggle.com/data/41592"
      ]
    },
    {
      "cell_type": "markdown",
      "metadata": {
        "id": "mirWm3dBPv90"
      },
      "source": [
        "## **Grading Criteria**\n",
        "\n",
        "- Show clear exploration of the data to justify model choice\n",
        "- Train mutliple models and clearly articulate why you chose your final model\n",
        "- Show your performance on test dataset\n",
        "- Clear and concise write-up with clear well-documented figures\n",
        "- Commit your code to GitHub"
      ]
    },
    {
      "cell_type": "markdown",
      "metadata": {
        "id": "4ZRNqxFcP4wx"
      },
      "source": [
        "## **Submission Details**\n",
        "\n",
        "This is an individual assignment. You may not work in groups. The assignment is due on Friday (05/07/2021)\n",
        "- To submit your assignment, download your notebook and the dataset, zip the dataset and notebook, and submit the zipped file on blackboard.\n",
        "- Make sure the notebook is named in the format - Final_LastName_FirstName. If you are submitting a zipped file, please name the file as well in the same format.\n",
        "- Please include the link to access your blog and your github repo in your notebook.\n",
        "- Also include the link to your notebook, github repo and the blog in the submission on blackboard. Please ensure the TAs have the required access to your notebooks and the github repo.\n",
        "\n",
        "**Note - If the dataset is too large to be zipped and submitted on blackboard, only submit your notebook, add your dataset to your google drive and share a link to the file in your notebook.**"
      ]
    },
    {
      "cell_type": "markdown",
      "metadata": {
        "id": "Bf9vWghT8juL"
      },
      "source": [
        "links:\n",
        "\n",
        "medium: https://jingy.medium.com/machine-learning-on-car-evaluation-logistic-classification-ac8b4e02d2d4\n"
      ]
    },
    {
      "cell_type": "code",
      "metadata": {
        "id": "ZzWRBLl6MImY"
      },
      "source": [
        "# import all libraries\n",
        "import pandas as pd\n",
        "import numpy as np\n",
        "import matplotlib.pyplot as plt\n",
        "import seaborn as sb\n"
      ],
      "execution_count": 1,
      "outputs": []
    },
    {
      "cell_type": "code",
      "metadata": {
        "colab": {
          "base_uri": "https://localhost:8080/"
        },
        "id": "htkZQCKcrSow",
        "outputId": "b303142e-0c0a-4ca2-ebb5-627661cd5c87"
      },
      "source": [
        "!pip install explode"
      ],
      "execution_count": 2,
      "outputs": [
        {
          "output_type": "stream",
          "text": [
            "Collecting explode\n",
            "  Downloading https://files.pythonhosted.org/packages/7c/28/f51229219b399a71995b2126406b81098ad73f6b1d1b8bb13ddfd17b5423/explode-1.0.6.tar.gz\n",
            "Collecting pbr\n",
            "  Using cached https://files.pythonhosted.org/packages/18/e0/1d4702dd81121d04a477c272d47ee5b6bc970d1a0990b11befa275c55cf2/pbr-5.6.0-py2.py3-none-any.whl\n",
            "Requirement already satisfied: PyYAML in /usr/local/lib/python3.7/dist-packages (from explode) (3.13)\n",
            "Building wheels for collected packages: explode\n",
            "  Building wheel for explode (setup.py) ... \u001b[?25l\u001b[?25hdone\n",
            "  Created wheel for explode: filename=explode-1.0.6-cp37-none-any.whl size=8793 sha256=a278189af6f150eece08b8b07c71c0223b8959345bae6b18e2f2fb36aab1a465\n",
            "  Stored in directory: /root/.cache/pip/wheels/1f/11/64/8579afbcb2fdf6811611a71afa53c53ec2886a5b12dd651cbc\n",
            "Successfully built explode\n",
            "Installing collected packages: pbr, explode\n",
            "Successfully installed explode-1.0.6 pbr-5.6.0\n"
          ],
          "name": "stdout"
        }
      ]
    },
    {
      "cell_type": "markdown",
      "metadata": {
        "id": "qtrdKlkMxCct"
      },
      "source": [
        "**Data Prep**"
      ]
    },
    {
      "cell_type": "code",
      "metadata": {
        "id": "5bCEpb_i_rAp"
      },
      "source": [
        "# import car evaluation dataset \n",
        "car = pd.DataFrame(pd.read_csv('https://raw.githubusercontent.com/melody199810/classification-on-car-evaluation/main/car.csv', header = None))"
      ],
      "execution_count": 3,
      "outputs": []
    },
    {
      "cell_type": "code",
      "metadata": {
        "colab": {
          "base_uri": "https://localhost:8080/",
          "height": 436
        },
        "id": "wgAvPoMENYxT",
        "outputId": "72f4d9b4-c8b7-45ba-8345-46b27f0e08e5"
      },
      "source": [
        "# initial inspection of dataframe\n",
        "print(car.shape)\n",
        "car.head(-5)"
      ],
      "execution_count": 4,
      "outputs": [
        {
          "output_type": "stream",
          "text": [
            "(1728, 7)\n"
          ],
          "name": "stdout"
        },
        {
          "output_type": "execute_result",
          "data": {
            "text/html": [
              "<div>\n",
              "<style scoped>\n",
              "    .dataframe tbody tr th:only-of-type {\n",
              "        vertical-align: middle;\n",
              "    }\n",
              "\n",
              "    .dataframe tbody tr th {\n",
              "        vertical-align: top;\n",
              "    }\n",
              "\n",
              "    .dataframe thead th {\n",
              "        text-align: right;\n",
              "    }\n",
              "</style>\n",
              "<table border=\"1\" class=\"dataframe\">\n",
              "  <thead>\n",
              "    <tr style=\"text-align: right;\">\n",
              "      <th></th>\n",
              "      <th>0</th>\n",
              "      <th>1</th>\n",
              "      <th>2</th>\n",
              "      <th>3</th>\n",
              "      <th>4</th>\n",
              "      <th>5</th>\n",
              "      <th>6</th>\n",
              "    </tr>\n",
              "  </thead>\n",
              "  <tbody>\n",
              "    <tr>\n",
              "      <th>0</th>\n",
              "      <td>vhigh</td>\n",
              "      <td>vhigh</td>\n",
              "      <td>2</td>\n",
              "      <td>2</td>\n",
              "      <td>small</td>\n",
              "      <td>low</td>\n",
              "      <td>unacc</td>\n",
              "    </tr>\n",
              "    <tr>\n",
              "      <th>1</th>\n",
              "      <td>vhigh</td>\n",
              "      <td>vhigh</td>\n",
              "      <td>2</td>\n",
              "      <td>2</td>\n",
              "      <td>small</td>\n",
              "      <td>med</td>\n",
              "      <td>unacc</td>\n",
              "    </tr>\n",
              "    <tr>\n",
              "      <th>2</th>\n",
              "      <td>vhigh</td>\n",
              "      <td>vhigh</td>\n",
              "      <td>2</td>\n",
              "      <td>2</td>\n",
              "      <td>small</td>\n",
              "      <td>high</td>\n",
              "      <td>unacc</td>\n",
              "    </tr>\n",
              "    <tr>\n",
              "      <th>3</th>\n",
              "      <td>vhigh</td>\n",
              "      <td>vhigh</td>\n",
              "      <td>2</td>\n",
              "      <td>2</td>\n",
              "      <td>med</td>\n",
              "      <td>low</td>\n",
              "      <td>unacc</td>\n",
              "    </tr>\n",
              "    <tr>\n",
              "      <th>4</th>\n",
              "      <td>vhigh</td>\n",
              "      <td>vhigh</td>\n",
              "      <td>2</td>\n",
              "      <td>2</td>\n",
              "      <td>med</td>\n",
              "      <td>med</td>\n",
              "      <td>unacc</td>\n",
              "    </tr>\n",
              "    <tr>\n",
              "      <th>...</th>\n",
              "      <td>...</td>\n",
              "      <td>...</td>\n",
              "      <td>...</td>\n",
              "      <td>...</td>\n",
              "      <td>...</td>\n",
              "      <td>...</td>\n",
              "      <td>...</td>\n",
              "    </tr>\n",
              "    <tr>\n",
              "      <th>1718</th>\n",
              "      <td>low</td>\n",
              "      <td>low</td>\n",
              "      <td>5more</td>\n",
              "      <td>4</td>\n",
              "      <td>big</td>\n",
              "      <td>high</td>\n",
              "      <td>vgood</td>\n",
              "    </tr>\n",
              "    <tr>\n",
              "      <th>1719</th>\n",
              "      <td>low</td>\n",
              "      <td>low</td>\n",
              "      <td>5more</td>\n",
              "      <td>more</td>\n",
              "      <td>small</td>\n",
              "      <td>low</td>\n",
              "      <td>unacc</td>\n",
              "    </tr>\n",
              "    <tr>\n",
              "      <th>1720</th>\n",
              "      <td>low</td>\n",
              "      <td>low</td>\n",
              "      <td>5more</td>\n",
              "      <td>more</td>\n",
              "      <td>small</td>\n",
              "      <td>med</td>\n",
              "      <td>acc</td>\n",
              "    </tr>\n",
              "    <tr>\n",
              "      <th>1721</th>\n",
              "      <td>low</td>\n",
              "      <td>low</td>\n",
              "      <td>5more</td>\n",
              "      <td>more</td>\n",
              "      <td>small</td>\n",
              "      <td>high</td>\n",
              "      <td>good</td>\n",
              "    </tr>\n",
              "    <tr>\n",
              "      <th>1722</th>\n",
              "      <td>low</td>\n",
              "      <td>low</td>\n",
              "      <td>5more</td>\n",
              "      <td>more</td>\n",
              "      <td>med</td>\n",
              "      <td>low</td>\n",
              "      <td>unacc</td>\n",
              "    </tr>\n",
              "  </tbody>\n",
              "</table>\n",
              "<p>1723 rows × 7 columns</p>\n",
              "</div>"
            ],
            "text/plain": [
              "          0      1      2     3      4     5      6\n",
              "0     vhigh  vhigh      2     2  small   low  unacc\n",
              "1     vhigh  vhigh      2     2  small   med  unacc\n",
              "2     vhigh  vhigh      2     2  small  high  unacc\n",
              "3     vhigh  vhigh      2     2    med   low  unacc\n",
              "4     vhigh  vhigh      2     2    med   med  unacc\n",
              "...     ...    ...    ...   ...    ...   ...    ...\n",
              "1718    low    low  5more     4    big  high  vgood\n",
              "1719    low    low  5more  more  small   low  unacc\n",
              "1720    low    low  5more  more  small   med    acc\n",
              "1721    low    low  5more  more  small  high   good\n",
              "1722    low    low  5more  more    med   low  unacc\n",
              "\n",
              "[1723 rows x 7 columns]"
            ]
          },
          "metadata": {
            "tags": []
          },
          "execution_count": 4
        }
      ]
    },
    {
      "cell_type": "code",
      "metadata": {
        "id": "ifwCpvDhD-CO"
      },
      "source": [
        "# modify dataframe by adding headers\n",
        "\n",
        "car.columns = ['BuyPrice','MaintPrice','Doors','Persons','LugBootSize','Safety','Class']"
      ],
      "execution_count": 5,
      "outputs": []
    },
    {
      "cell_type": "markdown",
      "metadata": {
        "id": "6F7UFJ3VxGdE"
      },
      "source": [
        "**Initial Inspection & Handling**"
      ]
    },
    {
      "cell_type": "code",
      "metadata": {
        "colab": {
          "base_uri": "https://localhost:8080/"
        },
        "id": "Y-8QnlqluPpc",
        "outputId": "fb6ba7c2-ab79-4eb4-e56e-c51e4e90f78c"
      },
      "source": [
        "car.info()"
      ],
      "execution_count": 6,
      "outputs": [
        {
          "output_type": "stream",
          "text": [
            "<class 'pandas.core.frame.DataFrame'>\n",
            "RangeIndex: 1728 entries, 0 to 1727\n",
            "Data columns (total 7 columns):\n",
            " #   Column       Non-Null Count  Dtype \n",
            "---  ------       --------------  ----- \n",
            " 0   BuyPrice     1728 non-null   object\n",
            " 1   MaintPrice   1728 non-null   object\n",
            " 2   Doors        1728 non-null   object\n",
            " 3   Persons      1728 non-null   object\n",
            " 4   LugBootSize  1728 non-null   object\n",
            " 5   Safety       1728 non-null   object\n",
            " 6   Class        1728 non-null   object\n",
            "dtypes: object(7)\n",
            "memory usage: 94.6+ KB\n"
          ],
          "name": "stdout"
        }
      ]
    },
    {
      "cell_type": "code",
      "metadata": {
        "colab": {
          "base_uri": "https://localhost:8080/",
          "height": 173
        },
        "id": "8LlUQk1xuPwn",
        "outputId": "e56b3641-074a-4a1e-920d-eb61da09225f"
      },
      "source": [
        "car.describe()"
      ],
      "execution_count": 7,
      "outputs": [
        {
          "output_type": "execute_result",
          "data": {
            "text/html": [
              "<div>\n",
              "<style scoped>\n",
              "    .dataframe tbody tr th:only-of-type {\n",
              "        vertical-align: middle;\n",
              "    }\n",
              "\n",
              "    .dataframe tbody tr th {\n",
              "        vertical-align: top;\n",
              "    }\n",
              "\n",
              "    .dataframe thead th {\n",
              "        text-align: right;\n",
              "    }\n",
              "</style>\n",
              "<table border=\"1\" class=\"dataframe\">\n",
              "  <thead>\n",
              "    <tr style=\"text-align: right;\">\n",
              "      <th></th>\n",
              "      <th>BuyPrice</th>\n",
              "      <th>MaintPrice</th>\n",
              "      <th>Doors</th>\n",
              "      <th>Persons</th>\n",
              "      <th>LugBootSize</th>\n",
              "      <th>Safety</th>\n",
              "      <th>Class</th>\n",
              "    </tr>\n",
              "  </thead>\n",
              "  <tbody>\n",
              "    <tr>\n",
              "      <th>count</th>\n",
              "      <td>1728</td>\n",
              "      <td>1728</td>\n",
              "      <td>1728</td>\n",
              "      <td>1728</td>\n",
              "      <td>1728</td>\n",
              "      <td>1728</td>\n",
              "      <td>1728</td>\n",
              "    </tr>\n",
              "    <tr>\n",
              "      <th>unique</th>\n",
              "      <td>4</td>\n",
              "      <td>4</td>\n",
              "      <td>4</td>\n",
              "      <td>3</td>\n",
              "      <td>3</td>\n",
              "      <td>3</td>\n",
              "      <td>4</td>\n",
              "    </tr>\n",
              "    <tr>\n",
              "      <th>top</th>\n",
              "      <td>med</td>\n",
              "      <td>med</td>\n",
              "      <td>3</td>\n",
              "      <td>more</td>\n",
              "      <td>med</td>\n",
              "      <td>med</td>\n",
              "      <td>unacc</td>\n",
              "    </tr>\n",
              "    <tr>\n",
              "      <th>freq</th>\n",
              "      <td>432</td>\n",
              "      <td>432</td>\n",
              "      <td>432</td>\n",
              "      <td>576</td>\n",
              "      <td>576</td>\n",
              "      <td>576</td>\n",
              "      <td>1210</td>\n",
              "    </tr>\n",
              "  </tbody>\n",
              "</table>\n",
              "</div>"
            ],
            "text/plain": [
              "       BuyPrice MaintPrice Doors Persons LugBootSize Safety  Class\n",
              "count      1728       1728  1728    1728        1728   1728   1728\n",
              "unique        4          4     4       3           3      3      4\n",
              "top         med        med     3    more         med    med  unacc\n",
              "freq        432        432   432     576         576    576   1210"
            ]
          },
          "metadata": {
            "tags": []
          },
          "execution_count": 7
        }
      ]
    },
    {
      "cell_type": "code",
      "metadata": {
        "colab": {
          "base_uri": "https://localhost:8080/",
          "height": 419
        },
        "id": "TDO5RjERuUyL",
        "outputId": "1684ce61-60a7-4993-c15c-fce45c138bd3"
      },
      "source": [
        "#check for null values\n",
        "car.isnull()"
      ],
      "execution_count": 8,
      "outputs": [
        {
          "output_type": "execute_result",
          "data": {
            "text/html": [
              "<div>\n",
              "<style scoped>\n",
              "    .dataframe tbody tr th:only-of-type {\n",
              "        vertical-align: middle;\n",
              "    }\n",
              "\n",
              "    .dataframe tbody tr th {\n",
              "        vertical-align: top;\n",
              "    }\n",
              "\n",
              "    .dataframe thead th {\n",
              "        text-align: right;\n",
              "    }\n",
              "</style>\n",
              "<table border=\"1\" class=\"dataframe\">\n",
              "  <thead>\n",
              "    <tr style=\"text-align: right;\">\n",
              "      <th></th>\n",
              "      <th>BuyPrice</th>\n",
              "      <th>MaintPrice</th>\n",
              "      <th>Doors</th>\n",
              "      <th>Persons</th>\n",
              "      <th>LugBootSize</th>\n",
              "      <th>Safety</th>\n",
              "      <th>Class</th>\n",
              "    </tr>\n",
              "  </thead>\n",
              "  <tbody>\n",
              "    <tr>\n",
              "      <th>0</th>\n",
              "      <td>False</td>\n",
              "      <td>False</td>\n",
              "      <td>False</td>\n",
              "      <td>False</td>\n",
              "      <td>False</td>\n",
              "      <td>False</td>\n",
              "      <td>False</td>\n",
              "    </tr>\n",
              "    <tr>\n",
              "      <th>1</th>\n",
              "      <td>False</td>\n",
              "      <td>False</td>\n",
              "      <td>False</td>\n",
              "      <td>False</td>\n",
              "      <td>False</td>\n",
              "      <td>False</td>\n",
              "      <td>False</td>\n",
              "    </tr>\n",
              "    <tr>\n",
              "      <th>2</th>\n",
              "      <td>False</td>\n",
              "      <td>False</td>\n",
              "      <td>False</td>\n",
              "      <td>False</td>\n",
              "      <td>False</td>\n",
              "      <td>False</td>\n",
              "      <td>False</td>\n",
              "    </tr>\n",
              "    <tr>\n",
              "      <th>3</th>\n",
              "      <td>False</td>\n",
              "      <td>False</td>\n",
              "      <td>False</td>\n",
              "      <td>False</td>\n",
              "      <td>False</td>\n",
              "      <td>False</td>\n",
              "      <td>False</td>\n",
              "    </tr>\n",
              "    <tr>\n",
              "      <th>4</th>\n",
              "      <td>False</td>\n",
              "      <td>False</td>\n",
              "      <td>False</td>\n",
              "      <td>False</td>\n",
              "      <td>False</td>\n",
              "      <td>False</td>\n",
              "      <td>False</td>\n",
              "    </tr>\n",
              "    <tr>\n",
              "      <th>...</th>\n",
              "      <td>...</td>\n",
              "      <td>...</td>\n",
              "      <td>...</td>\n",
              "      <td>...</td>\n",
              "      <td>...</td>\n",
              "      <td>...</td>\n",
              "      <td>...</td>\n",
              "    </tr>\n",
              "    <tr>\n",
              "      <th>1723</th>\n",
              "      <td>False</td>\n",
              "      <td>False</td>\n",
              "      <td>False</td>\n",
              "      <td>False</td>\n",
              "      <td>False</td>\n",
              "      <td>False</td>\n",
              "      <td>False</td>\n",
              "    </tr>\n",
              "    <tr>\n",
              "      <th>1724</th>\n",
              "      <td>False</td>\n",
              "      <td>False</td>\n",
              "      <td>False</td>\n",
              "      <td>False</td>\n",
              "      <td>False</td>\n",
              "      <td>False</td>\n",
              "      <td>False</td>\n",
              "    </tr>\n",
              "    <tr>\n",
              "      <th>1725</th>\n",
              "      <td>False</td>\n",
              "      <td>False</td>\n",
              "      <td>False</td>\n",
              "      <td>False</td>\n",
              "      <td>False</td>\n",
              "      <td>False</td>\n",
              "      <td>False</td>\n",
              "    </tr>\n",
              "    <tr>\n",
              "      <th>1726</th>\n",
              "      <td>False</td>\n",
              "      <td>False</td>\n",
              "      <td>False</td>\n",
              "      <td>False</td>\n",
              "      <td>False</td>\n",
              "      <td>False</td>\n",
              "      <td>False</td>\n",
              "    </tr>\n",
              "    <tr>\n",
              "      <th>1727</th>\n",
              "      <td>False</td>\n",
              "      <td>False</td>\n",
              "      <td>False</td>\n",
              "      <td>False</td>\n",
              "      <td>False</td>\n",
              "      <td>False</td>\n",
              "      <td>False</td>\n",
              "    </tr>\n",
              "  </tbody>\n",
              "</table>\n",
              "<p>1728 rows × 7 columns</p>\n",
              "</div>"
            ],
            "text/plain": [
              "      BuyPrice  MaintPrice  Doors  Persons  LugBootSize  Safety  Class\n",
              "0        False       False  False    False        False   False  False\n",
              "1        False       False  False    False        False   False  False\n",
              "2        False       False  False    False        False   False  False\n",
              "3        False       False  False    False        False   False  False\n",
              "4        False       False  False    False        False   False  False\n",
              "...        ...         ...    ...      ...          ...     ...    ...\n",
              "1723     False       False  False    False        False   False  False\n",
              "1724     False       False  False    False        False   False  False\n",
              "1725     False       False  False    False        False   False  False\n",
              "1726     False       False  False    False        False   False  False\n",
              "1727     False       False  False    False        False   False  False\n",
              "\n",
              "[1728 rows x 7 columns]"
            ]
          },
          "metadata": {
            "tags": []
          },
          "execution_count": 8
        }
      ]
    },
    {
      "cell_type": "markdown",
      "metadata": {
        "id": "l1K8VishfGFs"
      },
      "source": [
        "There is no null values and data types are all objects. "
      ]
    },
    {
      "cell_type": "markdown",
      "metadata": {
        "id": "rtRH_x3LtBBD"
      },
      "source": [
        "**Graphs**"
      ]
    },
    {
      "cell_type": "code",
      "metadata": {
        "colab": {
          "base_uri": "https://localhost:8080/",
          "height": 469
        },
        "id": "Z3WWVlxvuZnx",
        "outputId": "d3bc64b3-865f-4ce0-98eb-6b40c8a2c793"
      },
      "source": [
        "# class distribution pie chart\n",
        "\n",
        "import explode \n",
        "plt.style.use('ggplot')\n",
        "class_values = car['Class'].value_counts()\n",
        "\n",
        "labels = []\n",
        "for i in car['Class']:\n",
        "  if i not in labels:\n",
        "    labels.append(i)\n",
        "\n",
        "plt.title('Class Rating Distribution of All Vehicles')\n",
        "plt.pie(class_values, labels = labels , autopct='%.1f%%', startangle=45)"
      ],
      "execution_count": 9,
      "outputs": [
        {
          "output_type": "execute_result",
          "data": {
            "text/plain": [
              "([<matplotlib.patches.Wedge at 0x7f9656317690>,\n",
              "  <matplotlib.patches.Wedge at 0x7f96563170d0>,\n",
              "  <matplotlib.patches.Wedge at 0x7f96562f7b10>,\n",
              "  <matplotlib.patches.Wedge at 0x7f96562f7150>],\n",
              " [Text(-1.086582031885639, 0.17128773447995793, 'unacc'),\n",
              "  Text(1.0131794244615928, -0.4283310096732147, 'acc'),\n",
              "  Text(1.0027738692397954, 0.45215546791988503, 'vgood'),\n",
              "  Text(0.8640961267661518, 0.6806892710390952, 'good')],\n",
              " [Text(-0.5926811083012575, 0.09342967335270431, '70.0%'),\n",
              "  Text(0.552643322433596, -0.2336350961853898, '22.2%'),\n",
              "  Text(0.5469675650398883, 0.24663025522902818, '4.0%'),\n",
              "  Text(0.47132516005426456, 0.37128505693041547, '3.8%')])"
            ]
          },
          "metadata": {
            "tags": []
          },
          "execution_count": 9
        },
        {
          "output_type": "display_data",
          "data": {
            "image/png": "[encoded data removed]",
            "text/plain": [
              "<Figure size 432x288 with 1 Axes>"
            ]
          },
          "metadata": {
            "tags": []
          }
        }
      ]
    },
    {
      "cell_type": "code",
      "metadata": {
        "colab": {
          "base_uri": "https://localhost:8080/",
          "height": 636
        },
        "id": "lyeqB-IUmR8c",
        "outputId": "a653d922-8431-4e5f-9864-9951a7db01fe"
      },
      "source": [
        "# safety distribution pie chart\n",
        "\n",
        "size = car['Safety'].value_counts()\n",
        "\n",
        "labels_1 = []\n",
        "for i in car['Safety']:\n",
        "  if i not in labels_1:\n",
        "    labels_1.append(i)\n",
        "\n",
        "plt.rcParams['figure.figsize'] = (8, 8)\n",
        "plt.title('Safety Rating Distribution of All Vehicles')\n",
        "plt.pie(size, labels = labels_1, shadow = True, startangle = 120, autopct = '%1.1f%%')"
      ],
      "execution_count": 10,
      "outputs": [
        {
          "output_type": "execute_result",
          "data": {
            "text/plain": [
              "([<matplotlib.patches.Wedge at 0x7f965628f690>,\n",
              "  <matplotlib.patches.Wedge at 0x7f965629a090>,\n",
              "  <matplotlib.patches.Wedge at 0x7f965629ac50>],\n",
              " [Text(-1.0999999999999996, -3.4329810281911156e-08, 'low'),\n",
              "  Text(0.5500000891914619, -0.9526278926681625, 'med'),\n",
              "  Text(0.5499998513475521, 0.9526280299873979, 'high')],\n",
              " [Text(-0.5999999999999998, -1.8725351062860628e-08, '33.3%'),\n",
              "  Text(0.30000004864988833, -0.519615214182634, '33.3%'),\n",
              "  Text(0.2999999189168466, 0.5196152890840352, '33.3%')])"
            ]
          },
          "metadata": {
            "tags": []
          },
          "execution_count": 10
        },
        {
          "output_type": "display_data",
          "data": {
            "image/png": "[encoded data removed]",
            "text/plain": [
              "<Figure size 576x576 with 1 Axes>"
            ]
          },
          "metadata": {
            "tags": []
          }
        }
      ]
    },
    {
      "cell_type": "code",
      "metadata": {
        "colab": {
          "base_uri": "https://localhost:8080/",
          "height": 687
        },
        "id": "3u_pwEZjstu7",
        "outputId": "cf71b035-fb15-43b7-d1db-5b800b016852"
      },
      "source": [
        "# buy price distribution pie chart\n",
        "\n",
        "size = car['BuyPrice'].value_counts()\n",
        "\n",
        "labels_2 = []\n",
        "for i in car['BuyPrice']:\n",
        "  if i not in labels_2:\n",
        "    labels_2.append(i)\n",
        "\n",
        "plt.rcParams['figure.figsize'] = (8, 8)\n",
        "plt.title('Buy Price Distribution of All Vehicles')\n",
        "plt.pie(size, labels = labels_2, shadow = True, startangle = 120, autopct = '%1.1f%%')"
      ],
      "execution_count": 11,
      "outputs": [
        {
          "output_type": "execute_result",
          "data": {
            "text/plain": [
              "([<matplotlib.patches.Wedge at 0x7f9655e1bd90>,\n",
              "  <matplotlib.patches.Wedge at 0x7f9655e27790>,\n",
              "  <matplotlib.patches.Wedge at 0x7f9655db0390>,\n",
              "  <matplotlib.patches.Wedge at 0x7f9655db0fd0>],\n",
              " [Text(-1.0625184089179749, 0.28470094961277365, 'vhigh'),\n",
              "  Text(-0.2847009496127737, -1.0625184089179749, 'high'),\n",
              "  Text(1.0625184089179749, -0.28470094961277376, 'med'),\n",
              "  Text(0.2847009496127738, 1.0625184089179749, 'low')],\n",
              " [Text(-0.5795554957734408, 0.15529142706151286, '25.0%'),\n",
              "  Text(-0.15529142706151292, -0.5795554957734408, '25.0%'),\n",
              "  Text(0.5795554957734408, -0.15529142706151294, '25.0%'),\n",
              "  Text(0.15529142706151297, 0.5795554957734408, '25.0%')])"
            ]
          },
          "metadata": {
            "tags": []
          },
          "execution_count": 11
        },
        {
          "output_type": "display_data",
          "data": {
            "image/png": "[encoded data removed]",
            "text/plain": [
              "<Figure size 576x576 with 1 Axes>"
            ]
          },
          "metadata": {
            "tags": []
          }
        }
      ]
    },
    {
      "cell_type": "code",
      "metadata": {
        "colab": {
          "base_uri": "https://localhost:8080/",
          "height": 496
        },
        "id": "DlyDUmTsvygt",
        "outputId": "be52a38c-23f5-4595-981c-6951a1f23bad"
      },
      "source": [
        "# stacked bar chart of class distribution of cars with different luggageboot sizes\n",
        "Lug_Class= pd.crosstab(car['LugBootSize'], car['Class'])\n",
        "Lug_Class.plot(kind = 'bar', stacked = 'True',figsize = (10, 7))\n",
        "\n",
        "plt.title('Dist. of Class by Luggage Boot Size')\n",
        "plt.ylabel('Count')\n",
        "plt.legend(loc =0)\n"
      ],
      "execution_count": 12,
      "outputs": [
        {
          "output_type": "execute_result",
          "data": {
            "text/plain": [
              "<matplotlib.legend.Legend at 0x7f96562afe90>"
            ]
          },
          "metadata": {
            "tags": []
          },
          "execution_count": 12
        },
        {
          "output_type": "display_data",
          "data": {
            "image/png": "[encoded data removed]",
            "text/plain": [
              "<Figure size 720x504 with 1 Axes>"
            ]
          },
          "metadata": {
            "tags": []
          }
        }
      ]
    },
    {
      "cell_type": "code",
      "metadata": {
        "colab": {
          "base_uri": "https://localhost:8080/",
          "height": 495
        },
        "id": "wtE-QJ_h1x30",
        "outputId": "a5b3e9d4-b897-45cd-824b-b328c3f45cbd"
      },
      "source": [
        "# stacked bar chart of class distribution of cars with different capacity\n",
        "Lug_Class= pd.crosstab(car['Persons'], car['Class'])\n",
        "Lug_Class.plot(kind = 'bar', stacked = 'True',figsize = (10, 7))\n",
        "\n",
        "plt.title('Dist. of Class by Capacity')\n",
        "plt.ylabel('Count')\n",
        "plt.legend(loc =0)"
      ],
      "execution_count": 13,
      "outputs": [
        {
          "output_type": "execute_result",
          "data": {
            "text/plain": [
              "<matplotlib.legend.Legend at 0x7f9655dce290>"
            ]
          },
          "metadata": {
            "tags": []
          },
          "execution_count": 13
        },
        {
          "output_type": "display_data",
          "data": {
            "image/png": "[encoded data removed]",
            "text/plain": [
              "<Figure size 720x504 with 1 Axes>"
            ]
          },
          "metadata": {
            "tags": []
          }
        }
      ]
    },
    {
      "cell_type": "markdown",
      "metadata": {
        "id": "OpOmDqmwQD3d"
      },
      "source": [
        " **Random Forest**"
      ]
    },
    {
      "cell_type": "code",
      "metadata": {
        "id": "3bwoDlw5uHcm",
        "colab": {
          "base_uri": "https://localhost:8080/"
        },
        "outputId": "f6b4683e-90a4-45cc-dbde-32cdb79a6e24"
      },
      "source": [
        "# Split your data in training and testing\n",
        "# target varible is 'Class'\n",
        "from sklearn.model_selection import train_test_split\n",
        "\n",
        "x = car.iloc[:,:6]\n",
        "y = car.iloc[:, 6]\n",
        "\n",
        "x_train, x_test, y_train, y_test = train_test_split(x, y, test_size = 0.3, random_state = 2021)\n",
        "print(x_train.shape)\n",
        "print(y_train.shape)\n",
        "print(x_test.shape)\n",
        "print(y_test.shape)"
      ],
      "execution_count": 14,
      "outputs": [
        {
          "output_type": "stream",
          "text": [
            "(1209, 6)\n",
            "(1209,)\n",
            "(519, 6)\n",
            "(519,)\n"
          ],
          "name": "stdout"
        }
      ]
    },
    {
      "cell_type": "code",
      "metadata": {
        "colab": {
          "base_uri": "https://localhost:8080/"
        },
        "id": "nxY0iiVlSene",
        "outputId": "65314f74-599d-4f44-94df-b0c6c1cce3d1"
      },
      "source": [
        "y_train.head()"
      ],
      "execution_count": 15,
      "outputs": [
        {
          "output_type": "execute_result",
          "data": {
            "text/plain": [
              "744     unacc\n",
              "1176    unacc\n",
              "718       acc\n",
              "1719    unacc\n",
              "1130    vgood\n",
              "Name: Class, dtype: object"
            ]
          },
          "metadata": {
            "tags": []
          },
          "execution_count": 15
        }
      ]
    },
    {
      "cell_type": "code",
      "metadata": {
        "colab": {
          "base_uri": "https://localhost:8080/"
        },
        "id": "iPYOV7b7Klwp",
        "outputId": "2eb8b43c-81c2-4fdd-8681-c58aae1bcb4d"
      },
      "source": [
        "#ordinal encoding; need to install ce first\n",
        "!pip install category_encoders\n",
        "import category_encoders as ce\n",
        "\n",
        "df_x = ce.OrdinalEncoder(cols = ['BuyPrice','MaintPrice','Doors','Persons','LugBootSize','Safety'])"
      ],
      "execution_count": 16,
      "outputs": [
        {
          "output_type": "stream",
          "text": [
            "Collecting category_encoders\n",
            "\u001b[?25l  Downloading https://files.pythonhosted.org/packages/44/57/fcef41c248701ee62e8325026b90c432adea35555cbc870aff9cfba23727/category_encoders-2.2.2-py2.py3-none-any.whl (80kB)\n",
            "\r\u001b[K     |████                            | 10kB 11.0MB/s eta 0:00:01\r\u001b[K     |████████▏                       | 20kB 12.1MB/s eta 0:00:01\r\u001b[K     |████████████▏                   | 30kB 5.7MB/s eta 0:00:01\r\u001b[K     |████████████████▎               | 40kB 5.1MB/s eta 0:00:01\r\u001b[K     |████████████████████▎           | 51kB 2.8MB/s eta 0:00:01\r\u001b[K     |████████████████████████▍       | 61kB 3.2MB/s eta 0:00:01\r\u001b[K     |████████████████████████████▍   | 71kB 3.4MB/s eta 0:00:01\r\u001b[K     |████████████████████████████████| 81kB 2.6MB/s \n",
            "\u001b[?25hRequirement already satisfied: pandas>=0.21.1 in /usr/local/lib/python3.7/dist-packages (from category_encoders) (1.1.5)\n",
            "Requirement already satisfied: statsmodels>=0.9.0 in /usr/local/lib/python3.7/dist-packages (from category_encoders) (0.10.2)\n",
            "Requirement already satisfied: scikit-learn>=0.20.0 in /usr/local/lib/python3.7/dist-packages (from category_encoders) (0.22.2.post1)\n",
            "Requirement already satisfied: numpy>=1.14.0 in /usr/local/lib/python3.7/dist-packages (from category_encoders) (1.19.5)\n",
            "Requirement already satisfied: patsy>=0.5.1 in /usr/local/lib/python3.7/dist-packages (from category_encoders) (0.5.1)\n",
            "Requirement already satisfied: scipy>=1.0.0 in /usr/local/lib/python3.7/dist-packages (from category_encoders) (1.4.1)\n",
            "Requirement already satisfied: python-dateutil>=2.7.3 in /usr/local/lib/python3.7/dist-packages (from pandas>=0.21.1->category_encoders) (2.8.1)\n",
            "Requirement already satisfied: pytz>=2017.2 in /usr/local/lib/python3.7/dist-packages (from pandas>=0.21.1->category_encoders) (2018.9)\n",
            "Requirement already satisfied: joblib>=0.11 in /usr/local/lib/python3.7/dist-packages (from scikit-learn>=0.20.0->category_encoders) (1.0.1)\n",
            "Requirement already satisfied: six in /usr/local/lib/python3.7/dist-packages (from patsy>=0.5.1->category_encoders) (1.15.0)\n",
            "Installing collected packages: category-encoders\n",
            "Successfully installed category-encoders-2.2.2\n"
          ],
          "name": "stdout"
        },
        {
          "output_type": "stream",
          "text": [
            "/usr/local/lib/python3.7/dist-packages/statsmodels/tools/_testing.py:19: FutureWarning: pandas.util.testing is deprecated. Use the functions in the public API at pandas.testing instead.\n",
            "  import pandas.util.testing as tm\n"
          ],
          "name": "stderr"
        }
      ]
    },
    {
      "cell_type": "code",
      "metadata": {
        "colab": {
          "base_uri": "https://localhost:8080/"
        },
        "id": "sZWm9imhQP6X",
        "outputId": "73f395d7-287f-41de-8274-66cafa384dcc"
      },
      "source": [
        "x_train_new = df_x.fit_transform(x_train)\n",
        "x_test_new = df_x.transform(x_test)"
      ],
      "execution_count": 17,
      "outputs": [
        {
          "output_type": "stream",
          "text": [
            "/usr/local/lib/python3.7/dist-packages/category_encoders/utils.py:21: FutureWarning: is_categorical is deprecated and will be removed in a future version.  Use is_categorical_dtype instead\n",
            "  elif pd.api.types.is_categorical(cols):\n"
          ],
          "name": "stderr"
        }
      ]
    },
    {
      "cell_type": "code",
      "metadata": {
        "id": "zMqcEvQbzquI",
        "colab": {
          "base_uri": "https://localhost:8080/"
        },
        "outputId": "fa809171-20b2-4ad7-970c-48e27ea2bd2d"
      },
      "source": [
        "# creating a model with RandomForestClassifier\n",
        "from sklearn.ensemble import RandomForestClassifier\n",
        "from sklearn.metrics import recall_score, precision_score, classification_report, accuracy_score\n",
        "\n",
        "model_rf = RandomForestClassifier(n_estimators=10, max_features=0.01,random_state=0)\n",
        "model_rf.fit(x_train_new, y_train)\n",
        "\n",
        "#predict w RF\n",
        "y_pred = model_rf.predict(x_test_new)\n",
        "\n",
        "#accuracy\n",
        "acc_rf = accuracy_score(y_test,y_pred)\n",
        "print('Accuracy score of Random Forest model is ', acc_rf)\n"
      ],
      "execution_count": 18,
      "outputs": [
        {
          "output_type": "stream",
          "text": [
            "Accuracy score of Random Forest model is  0.928709055876686\n"
          ],
          "name": "stdout"
        }
      ]
    },
    {
      "cell_type": "code",
      "metadata": {
        "colab": {
          "base_uri": "https://localhost:8080/",
          "height": 472
        },
        "id": "haGrmeHjXDFg",
        "outputId": "fec40113-2610-47e1-a81d-a0dc45679203"
      },
      "source": [
        "#visualization of accuracy of random forest model\n",
        "from sklearn import metrics\n",
        "from sklearn.metrics import plot_confusion_matrix\n",
        "\n",
        "matrix_rf = metrics.confusion_matrix(y_test, y_pred)\n",
        "metrics.plot_confusion_matrix(model_rf, x_test_new, y_test)\n",
        "plt.show()"
      ],
      "execution_count": 19,
      "outputs": [
        {
          "output_type": "display_data",
          "data": {
            "image/png": "[encoded data removed]",
            "text/plain": [
              "<Figure size 576x576 with 2 Axes>"
            ]
          },
          "metadata": {
            "tags": []
          }
        }
      ]
    },
    {
      "cell_type": "code",
      "metadata": {
        "colab": {
          "base_uri": "https://localhost:8080/"
        },
        "id": "ufXXWekFBwSG",
        "outputId": "ad86a6ee-9767-4822-80f1-dcdc4cebe4d2"
      },
      "source": [
        "#test & train accuracy for random forest; training accuracy is high, there might be overfitting\n",
        "print(\"Training Accuracy: \", model_rf.score(x_train_new, y_train))\n",
        "print(\"Testing Accuracy: \", model_rf.score(x_test_new, y_test))"
      ],
      "execution_count": 49,
      "outputs": [
        {
          "output_type": "stream",
          "text": [
            "Training Accuracy:  1.0\n",
            "Testing Accuracy:  0.928709055876686\n"
          ],
          "name": "stdout"
        }
      ]
    },
    {
      "cell_type": "code",
      "metadata": {
        "colab": {
          "base_uri": "https://localhost:8080/"
        },
        "id": "I38jH6GbcrHQ",
        "outputId": "9585872c-23f5-4a25-8565-1e0bb017e519"
      },
      "source": [
        "#what are some important features in determining the class of the vehicle?\n",
        "model_rf.feature_importances_\n",
        "imp = pd.DataFrame(zip(x_train_new.columns, model_rf.feature_importances_))\n",
        "print('Importance of Features in Determining Class by random forest: \\n',imp)\n"
      ],
      "execution_count": 20,
      "outputs": [
        {
          "output_type": "stream",
          "text": [
            "Importance of Features in Determining Class by random forest: \n",
            "              0         1\n",
            "0     BuyPrice  0.200555\n",
            "1   MaintPrice  0.115303\n",
            "2        Doors  0.056069\n",
            "3      Persons  0.250574\n",
            "4  LugBootSize  0.088864\n",
            "5       Safety  0.288634\n"
          ],
          "name": "stdout"
        }
      ]
    },
    {
      "cell_type": "markdown",
      "metadata": {
        "id": "D-U2XjYkX5pg"
      },
      "source": [
        "**Logistic Regression**"
      ]
    },
    {
      "cell_type": "code",
      "metadata": {
        "colab": {
          "base_uri": "https://localhost:8080/",
          "height": 493
        },
        "id": "vZXxiKfVEb-d",
        "outputId": "0949d802-576a-4856-fa8a-692d0079be74"
      },
      "source": [
        "# logistic regression model \n",
        "from sklearn.linear_model import LogisticRegression\n",
        "\n",
        "logReg = LogisticRegression(max_iter=10000)\n",
        "logReg.fit(x_train_new, y_train)\n",
        "\n",
        "#predict\n",
        "y_pred_lr = logReg.predict(x_test_new)\n",
        "matrix_lr = metrics.confusion_matrix(y_test, y_pred_lr)\n",
        "metrics.plot_confusion_matrix(logReg, x_test_new, y_test)\n",
        "\n",
        "#accuracy score\n",
        "acc_lr = accuracy_score(y_test,y_pred_lr)\n",
        "print('Accuracy score of Random Forest model is ', acc_lr)\n",
        "\n"
      ],
      "execution_count": 22,
      "outputs": [
        {
          "output_type": "stream",
          "text": [
            "Accuracy score of Random Forest model is  0.8111753371868978\n"
          ],
          "name": "stdout"
        },
        {
          "output_type": "display_data",
          "data": {
            "image/png": "[encoded data removed]",
            "text/plain": [
              "<Figure size 576x576 with 2 Axes>"
            ]
          },
          "metadata": {
            "tags": []
          }
        }
      ]
    },
    {
      "cell_type": "code",
      "metadata": {
        "colab": {
          "base_uri": "https://localhost:8080/"
        },
        "id": "IFRI9sN4BJsM",
        "outputId": "4c4373b9-5fcd-4331-d995-69f748b0bc5f"
      },
      "source": [
        "#test & train accuracy for logistic regression\n",
        "print(\"Training Accuracy: \",logReg.score(x_train_new, y_train))\n",
        "print(\"Testing Accuracy: \", logReg.score(x_test_new, y_test))"
      ],
      "execution_count": 47,
      "outputs": [
        {
          "output_type": "stream",
          "text": [
            "Training Accuracy:  0.7799834574028123\n",
            "Testing Accuracy:  0.8111753371868978\n"
          ],
          "name": "stdout"
        }
      ]
    },
    {
      "cell_type": "code",
      "metadata": {
        "colab": {
          "base_uri": "https://localhost:8080/"
        },
        "id": "FWnmd7W0zfuA",
        "outputId": "49e2c0eb-8c17-41b0-dd5b-0daffe29ae89"
      },
      "source": [
        "# AdaBoost Classification\n",
        "\n",
        "from sklearn.ensemble import AdaBoostClassifier\n",
        "from sklearn.tree import DecisionTreeClassifier\n",
        "dt = DecisionTreeClassifier (max_depth =4)\n",
        "ada_boost = AdaBoostClassifier(dt, n_estimators=200, random_state=42, learning_rate=.05)\n",
        "ada_boost.fit(x_train_new, y_train)\n",
        "\n",
        "res = round(accuracy_score(y_test, ada_boost.predict(x_test_new)),4)\n",
        "print('Accuracy score of an AdaBoost Classcification Model is '+ str(res))"
      ],
      "execution_count": 25,
      "outputs": [
        {
          "output_type": "stream",
          "text": [
            "Accuracy score of an AdaBoost Classcification Model is 0.9422\n"
          ],
          "name": "stdout"
        }
      ]
    },
    {
      "cell_type": "code",
      "metadata": {
        "colab": {
          "base_uri": "https://localhost:8080/"
        },
        "id": "tmYbSljaBqcs",
        "outputId": "37fa7c0f-10a8-46e4-b11b-4676746365d7"
      },
      "source": [
        "#test & train accuracy for adaboost model\n",
        "print(\"Training Accuracy: \",ada_boost.score(x_train_new, y_train))\n",
        "print(\"Testing Accuracy: \", ada_boost.score(x_test_new, y_test))"
      ],
      "execution_count": 48,
      "outputs": [
        {
          "output_type": "stream",
          "text": [
            "Training Accuracy:  0.9404466501240695\n",
            "Testing Accuracy:  0.9421965317919075\n"
          ],
          "name": "stdout"
        }
      ]
    },
    {
      "cell_type": "markdown",
      "metadata": {
        "id": "BrBuO8jMbNXg"
      },
      "source": [
        "**Cross Validation**"
      ]
    },
    {
      "cell_type": "code",
      "metadata": {
        "colab": {
          "base_uri": "https://localhost:8080/"
        },
        "id": "WTJXTI8obREx",
        "outputId": "27304665-928f-4fc1-e104-6ee09204239a"
      },
      "source": [
        "from sklearn.model_selection import cross_validate,cross_val_score\n",
        "\n",
        "# for logistic regression model; accuracy drops\n",
        "\n",
        "cv_results = cross_val_score(logReg, x_train_new, y_train, cv=10)\n",
        "print('After cross validation on logistic regression model, the mean of cross validation scores is '+ str(cv_results.mean()))"
      ],
      "execution_count": 40,
      "outputs": [
        {
          "output_type": "stream",
          "text": [
            "After cross validation on logistic regression model, the mean of cross validation scores is 0.7749931129476584\n"
          ],
          "name": "stdout"
        }
      ]
    },
    {
      "cell_type": "code",
      "metadata": {
        "colab": {
          "base_uri": "https://localhost:8080/"
        },
        "id": "AkbRMgCAfQhb",
        "outputId": "550f661e-cf45-4d59-c1e2-da7ccb7dc5d6"
      },
      "source": [
        "# for random forest; accuracy improved\n",
        "\n",
        "cv_results_1 = cross_val_score(model_rf, x_train_new, y_train, cv=10)\n",
        "print('After cross validation on random forest model, the mean of cross validation scores is '+ str(cv_results_1.mean()))"
      ],
      "execution_count": 39,
      "outputs": [
        {
          "output_type": "stream",
          "text": [
            "After cross validation on random forest model, the mean of cross validation scores is 0.9288774104683195\n"
          ],
          "name": "stdout"
        }
      ]
    },
    {
      "cell_type": "markdown",
      "metadata": {
        "id": "0yKTtmH9ZtX6"
      },
      "source": [
        "**Overfitting Prevention** "
      ]
    },
    {
      "cell_type": "code",
      "metadata": {
        "colab": {
          "base_uri": "https://localhost:8080/"
        },
        "id": "NMEoOlOQZlcS",
        "outputId": "406488c4-4383-4d5b-c7ff-31641204f03f"
      },
      "source": [
        "#L1 regularization\n",
        "\n",
        "from sklearn import linear_model\n",
        "\n",
        "reg = linear_model.Lasso(alpha=0.1)\n",
        "#reg.fit([[0, 0], [1, 1]], [0, 1])\n",
        "reg.fit([[0, 0], [0, 0], [1, 1]], [0, 0.1, 1])"
      ],
      "execution_count": 42,
      "outputs": [
        {
          "output_type": "execute_result",
          "data": {
            "text/plain": [
              "Lasso(alpha=0.1, copy_X=True, fit_intercept=True, max_iter=1000,\n",
              "      normalize=False, positive=False, precompute=False, random_state=None,\n",
              "      selection='cyclic', tol=0.0001, warm_start=False)"
            ]
          },
          "metadata": {
            "tags": []
          },
          "execution_count": 42
        }
      ]
    },
    {
      "cell_type": "code",
      "metadata": {
        "colab": {
          "base_uri": "https://localhost:8080/"
        },
        "id": "gPx2FPcmZ-sB",
        "outputId": "d2c820c4-0cf2-430c-a5e2-73854f989f9d"
      },
      "source": [
        "reg.coef_"
      ],
      "execution_count": 43,
      "outputs": [
        {
          "output_type": "execute_result",
          "data": {
            "text/plain": [
              "array([0.5, 0. ])"
            ]
          },
          "metadata": {
            "tags": []
          },
          "execution_count": 43
        }
      ]
    },
    {
      "cell_type": "code",
      "metadata": {
        "colab": {
          "base_uri": "https://localhost:8080/"
        },
        "id": "gbUESCScaAyD",
        "outputId": "647e5754-758b-4f4e-cda8-f485e50a68d6"
      },
      "source": [
        "reg.intercept_"
      ],
      "execution_count": 44,
      "outputs": [
        {
          "output_type": "execute_result",
          "data": {
            "text/plain": [
              "0.20000000000000004"
            ]
          },
          "metadata": {
            "tags": []
          },
          "execution_count": 44
        }
      ]
    },
    {
      "cell_type": "markdown",
      "metadata": {
        "id": "6HGdjbdxyatV"
      },
      "source": [
        "**Try Making Predictions**"
      ]
    }
  ]
}